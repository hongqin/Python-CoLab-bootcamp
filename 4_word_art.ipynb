{
  "nbformat": 4,
  "nbformat_minor": 0,
  "metadata": {
    "colab": {
      "provenance": [],
      "authorship_tag": "ABX9TyNTWRVzdPM/GQN51I5GuLJd",
      "include_colab_link": true
    },
    "kernelspec": {
      "name": "python3",
      "display_name": "Python 3"
    },
    "language_info": {
      "name": "python"
    }
  },
  "cells": [
    {
      "cell_type": "markdown",
      "metadata": {
        "id": "view-in-github",
        "colab_type": "text"
      },
      "source": [
        "<a href=\"https://colab.research.google.com/github/hongqin/Python-CoLab-bootcamp/blob/master/4_word_art.ipynb\" target=\"_parent\"><img src=\"https://colab.research.google.com/assets/colab-badge.svg\" alt=\"Open In Colab\"/></a>"
      ]
    },
    {
      "cell_type": "code",
      "execution_count": 3,
      "metadata": {
        "colab": {
          "base_uri": "https://localhost:8080/"
        },
        "id": "_8ULqQXnPgXA",
        "outputId": "8e264f54-1678-4930-b680-2955ee8609f4"
      },
      "outputs": [
        {
          "output_type": "stream",
          "name": "stdout",
          "text": [
            "llo\n",
            "o\n",
            "bye\n",
            "goodbye\n"
          ]
        }
      ],
      "source": [
        "# Warm Up 1: String Slicing & String Length\n",
        "\n",
        "def slice_end(s, index):\n",
        "    return s[index:]\n",
        "\n",
        "# Test cases\n",
        "print(slice_end(\"hello\", 2))  # Output: \"llo\"\n",
        "print(slice_end(\"hello\", 4))  # Output: \"o\"\n",
        "print(slice_end(\"goodbye\", 4))  # Output: \"bye\"\n",
        "print(slice_end(\"goodbye\", 0))  # Output: \"goodbye\"\n",
        "\n",
        "\n"
      ]
    },
    {
      "cell_type": "code",
      "source": [
        "# Warm Up 2: Pig Latin\n",
        "\n",
        "def pig_latin(word):\n",
        "    return word[1:] + word[0] + \"ay\"\n",
        "\n",
        "# Test cases\n",
        "print(pig_latin(\"hello\"))  # Output: \"ellohay\"\n",
        "print(pig_latin(\"yellow\"))  # Output: \"ellowyay\"\n",
        "print(pig_latin(\"corsair\"))  # Output: \"orsaircay\"\n",
        "\n"
      ],
      "metadata": {
        "colab": {
          "base_uri": "https://localhost:8080/"
        },
        "id": "1K-5bfEAPuAb",
        "outputId": "6f844378-6f12-4f8e-d314-4b7a3ad24001"
      },
      "execution_count": 4,
      "outputs": [
        {
          "output_type": "stream",
          "name": "stdout",
          "text": [
            "ellohay\n",
            "ellowyay\n",
            "orsaircay\n"
          ]
        }
      ]
    },
    {
      "cell_type": "code",
      "source": [
        "# Word Art #1: Shrink\n",
        "\n",
        "def shrink(word):\n",
        "    if len(word) == 0:\n",
        "        return\n",
        "    print(word)\n",
        "    shrink(word[:-1])\n",
        "\n",
        "# Test cases\n",
        "shrink(\"blastoff\")\n",
        "shrink(\"OHNO\")\n"
      ],
      "metadata": {
        "colab": {
          "base_uri": "https://localhost:8080/"
        },
        "id": "G9jyQ58rPuOl",
        "outputId": "d2165126-3ae5-40ba-efef-598c8d7078fb"
      },
      "execution_count": 5,
      "outputs": [
        {
          "output_type": "stream",
          "name": "stdout",
          "text": [
            "blastoff\n",
            "blastof\n",
            "blasto\n",
            "blast\n",
            "blas\n",
            "bla\n",
            "bl\n",
            "b\n",
            "OHNO\n",
            "OHN\n",
            "OH\n",
            "O\n"
          ]
        }
      ]
    },
    {
      "cell_type": "code",
      "source": [
        "\n",
        "# Word Art #2: Grow\n",
        "\n",
        "def grow(word):\n",
        "    if len(word) == 0:\n",
        "        return\n",
        "    grow(word[:-1])\n",
        "    print(word)\n",
        "\n",
        "# Test cases\n",
        "grow(\"blast\")\n",
        "grow(\"OHNO\")\n"
      ],
      "metadata": {
        "colab": {
          "base_uri": "https://localhost:8080/"
        },
        "id": "G2U-BB-EPyJ3",
        "outputId": "20a7bfa3-7851-4734-cb5a-ff0f73072115"
      },
      "execution_count": 6,
      "outputs": [
        {
          "output_type": "stream",
          "name": "stdout",
          "text": [
            "b\n",
            "bl\n",
            "bla\n",
            "blas\n",
            "blast\n",
            "O\n",
            "OH\n",
            "OHN\n",
            "OHNO\n"
          ]
        }
      ]
    },
    {
      "cell_type": "code",
      "source": [
        "# Word Art #3: Shrink Right\n",
        "\n",
        "def shrink_right(word, padding=0):\n",
        "    if len(word) == 0:\n",
        "        return\n",
        "    print(' ' * padding + word)\n",
        "    shrink_right(word[1:], padding + 1)\n",
        "\n",
        "# Test cases\n",
        "shrink_right(\"shrink\")\n",
        "shrink_right(\"right\")\n"
      ],
      "metadata": {
        "colab": {
          "base_uri": "https://localhost:8080/"
        },
        "id": "mghcnZOJPyNs",
        "outputId": "66ecdfb4-39ee-4aad-8c20-1d5f15d8da7f"
      },
      "execution_count": 13,
      "outputs": [
        {
          "output_type": "stream",
          "name": "stdout",
          "text": [
            "shrink\n",
            " hrink\n",
            "  rink\n",
            "   ink\n",
            "    nk\n",
            "     k\n",
            "right\n",
            " ight\n",
            "  ght\n",
            "   ht\n",
            "    t\n"
          ]
        }
      ]
    },
    {
      "cell_type": "markdown",
      "source": [
        "## Word Art #4 is not right"
      ],
      "metadata": {
        "id": "ZhRkfGAPWHtr"
      }
    },
    {
      "cell_type": "code",
      "source": [
        "# Word Art #4: Word Cascade\n",
        "\n",
        "def word_cascade(word):\n",
        "    if len(word) == 0:\n",
        "        return\n",
        "    print(word)\n",
        "    word_cascade(word[1:])\n",
        "    print(word)\n",
        "\n",
        "# Test cases\n",
        "word_cascade(\"word\")\n",
        "word_cascade(\"cascade\")\n"
      ],
      "metadata": {
        "colab": {
          "base_uri": "https://localhost:8080/"
        },
        "id": "5We2_ul0PyRq",
        "outputId": "72fcdc9f-b7ad-4c98-8ee6-c7270ec20377"
      },
      "execution_count": 8,
      "outputs": [
        {
          "output_type": "stream",
          "name": "stdout",
          "text": [
            "word\n",
            "ord\n",
            "rd\n",
            "d\n",
            "d\n",
            "rd\n",
            "ord\n",
            "word\n",
            "cascade\n",
            "ascade\n",
            "scade\n",
            "cade\n",
            "ade\n",
            "de\n",
            "e\n",
            "e\n",
            "de\n",
            "ade\n",
            "cade\n",
            "scade\n",
            "ascade\n",
            "cascade\n"
          ]
        }
      ]
    },
    {
      "cell_type": "markdown",
      "source": [
        "## cascade is not right"
      ],
      "metadata": {
        "id": "f2HFoFZbWOwY"
      }
    },
    {
      "cell_type": "code",
      "source": [
        "def word_cascade(word, indent=0, debug=0):\n",
        "    if debug: print(\"indent =\", indent)\n",
        "    if len(word) == 0:\n",
        "        return\n",
        "    print(word[:(indent+1)] +\" \" * indent )\n",
        "    word_cascade(word[:(len(word)-indent+1)], indent + 1, debug)\n",
        "    print(\" \" * indent + word[:(indent+1)] + \" indent=\" + str(indent))\n",
        "\n",
        "# Test cases\n",
        "word_cascade(\"word\", debug=0)\n",
        "\n"
      ],
      "metadata": {
        "colab": {
          "base_uri": "https://localhost:8080/"
        },
        "id": "aeLkNbS7TNvC",
        "outputId": "c72e91cc-610f-4f9d-c694-9194dc188f9d"
      },
      "execution_count": 31,
      "outputs": [
        {
          "output_type": "stream",
          "name": "stdout",
          "text": [
            "w\n",
            "wo \n",
            "wor  \n",
            "wor   \n",
            "w    \n",
            "    w indent=4\n",
            "   wor indent=3\n",
            "  wor indent=2\n",
            " wo indent=1\n",
            "w indent=0\n"
          ]
        }
      ]
    },
    {
      "cell_type": "markdown",
      "source": [
        "#5 is not right"
      ],
      "metadata": {
        "id": "M1D2mM7qWUVe"
      }
    },
    {
      "cell_type": "code",
      "source": [
        "\n",
        "# Word Art #5: Cascade Backwards\n",
        "\n",
        "def cascade_backwards(word):\n",
        "    if len(word) == 0:\n",
        "        return\n",
        "    cascade_backwards(word[1:])\n",
        "    print(word)\n",
        "\n",
        "# Test cases\n",
        "cascade_backwards(\"backwards\")\n"
      ],
      "metadata": {
        "colab": {
          "base_uri": "https://localhost:8080/"
        },
        "id": "gkZqQyHOQBT2",
        "outputId": "231830ad-5c96-4d55-80cc-499fc67ef174"
      },
      "execution_count": 9,
      "outputs": [
        {
          "output_type": "stream",
          "name": "stdout",
          "text": [
            "s\n",
            "ds\n",
            "rds\n",
            "ards\n",
            "wards\n",
            "kwards\n",
            "ckwards\n",
            "ackwards\n",
            "backwards\n"
          ]
        }
      ]
    },
    {
      "cell_type": "markdown",
      "source": [
        "# 6 is not right"
      ],
      "metadata": {
        "id": "TsC3NNFiWXMS"
      }
    },
    {
      "cell_type": "code",
      "source": [],
      "metadata": {
        "id": "S0LTGihrQBXK"
      },
      "execution_count": 9,
      "outputs": []
    },
    {
      "cell_type": "code",
      "source": [
        "# Word Art #6: Snake\n",
        "\n",
        "def snake(word):\n",
        "    if len(word) == 0:\n",
        "        return\n",
        "    print(word[0])\n",
        "    snake(word[1:])\n",
        "\n",
        "# Test case\n",
        "snake(\"snakesinthegrass\")"
      ],
      "metadata": {
        "colab": {
          "base_uri": "https://localhost:8080/"
        },
        "id": "xROMaGp0QBbM",
        "outputId": "7cde749b-cfb3-48b6-d4b1-b3e0304ebf05"
      },
      "execution_count": 10,
      "outputs": [
        {
          "output_type": "stream",
          "name": "stdout",
          "text": [
            "s\n",
            "n\n",
            "a\n",
            "k\n",
            "e\n",
            "s\n",
            "i\n",
            "n\n",
            "t\n",
            "h\n",
            "e\n",
            "g\n",
            "r\n",
            "a\n",
            "s\n",
            "s\n"
          ]
        }
      ]
    },
    {
      "cell_type": "code",
      "source": [
        "# Word Art #7: Custom Snake\n",
        "\n",
        "def custom_snake(word, width):\n",
        "    if len(word) == 0:\n",
        "        return\n",
        "    print(\" \" * (width - 1) + word[0])\n",
        "    custom_snake(word[1:], width + 1)\n",
        "\n",
        "# Test cases\n",
        "custom_snake(\"snakesinthegrass\", 3)\n",
        "custom_snake(\"thissnakeisbigger\", 4)"
      ],
      "metadata": {
        "colab": {
          "base_uri": "https://localhost:8080/"
        },
        "id": "iDmU0pAZPqqf",
        "outputId": "b1bbf2b6-d5c4-471c-ba02-c4babc66f100"
      },
      "execution_count": 11,
      "outputs": [
        {
          "output_type": "stream",
          "name": "stdout",
          "text": [
            "  s\n",
            "   n\n",
            "    a\n",
            "     k\n",
            "      e\n",
            "       s\n",
            "        i\n",
            "         n\n",
            "          t\n",
            "           h\n",
            "            e\n",
            "             g\n",
            "              r\n",
            "               a\n",
            "                s\n",
            "                 s\n",
            "   t\n",
            "    h\n",
            "     i\n",
            "      s\n",
            "       s\n",
            "        n\n",
            "         a\n",
            "          k\n",
            "           e\n",
            "            i\n",
            "             s\n",
            "              b\n",
            "               i\n",
            "                g\n",
            "                 g\n",
            "                  e\n",
            "                   r\n"
          ]
        }
      ]
    },
    {
      "cell_type": "code",
      "source": [],
      "metadata": {
        "id": "iGzNWO9yPqt3"
      },
      "execution_count": 11,
      "outputs": []
    },
    {
      "cell_type": "code",
      "source": [],
      "metadata": {
        "id": "__h624gzPkHz"
      },
      "execution_count": 11,
      "outputs": []
    },
    {
      "cell_type": "code",
      "source": [],
      "metadata": {
        "id": "A0AVlV8PPkKm"
      },
      "execution_count": 11,
      "outputs": []
    },
    {
      "cell_type": "code",
      "source": [],
      "metadata": {
        "id": "4t7TvpfJPkNo"
      },
      "execution_count": 11,
      "outputs": []
    },
    {
      "cell_type": "code",
      "source": [],
      "metadata": {
        "id": "PQghA5_2PkRH"
      },
      "execution_count": 11,
      "outputs": []
    }
  ]
}
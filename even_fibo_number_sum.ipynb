{
  "nbformat": 4,
  "nbformat_minor": 0,
  "metadata": {
    "colab": {
      "provenance": [],
      "authorship_tag": "ABX9TyMgJPqjs4v8NIOyClUfFd9L",
      "include_colab_link": true
    },
    "kernelspec": {
      "name": "python3",
      "display_name": "Python 3"
    },
    "language_info": {
      "name": "python"
    }
  },
  "cells": [
    {
      "cell_type": "markdown",
      "metadata": {
        "id": "view-in-github",
        "colab_type": "text"
      },
      "source": [
        "<a href=\"https://colab.research.google.com/github/hongqin/Python-CoLab-bootcamp/blob/master/even_fibo_number_sum.ipynb\" target=\"_parent\"><img src=\"https://colab.research.google.com/assets/colab-badge.svg\" alt=\"Open In Colab\"/></a>"
      ]
    },
    {
      "cell_type": "code",
      "execution_count": null,
      "metadata": {
        "colab": {
          "base_uri": "https://localhost:8080/"
        },
        "id": "Y3EYPS9mB7mP",
        "outputId": "a1687c9c-617e-4935-9322-8f04ef5b25a1"
      },
      "outputs": [
        {
          "output_type": "stream",
          "name": "stdout",
          "text": [
            "The sum of even-valued Fibonacci terms not exceeding 4000000 is 4613732\n"
          ]
        }
      ],
      "source": [
        "# Solution 1\n",
        "# Function to calculate the nth Fibonacci number using recursion.\n",
        "# 'prev' is the (n-1)th Fibonacci number, and 'cur' is the nth Fibonacci number.\n",
        "def fib_helper(n, prev, cur):\n",
        "    # Base case: if n is 0, return the 'prev' value (0th Fibonacci number)\n",
        "    if n == 0:\n",
        "        return prev\n",
        "    # Base case: if n is 1, return the 'cur' value (1st Fibonacci number)\n",
        "    elif n == 1:\n",
        "        return cur\n",
        "    # Recursive case: calculate the next Fibonacci number and decrement n\n",
        "    else:\n",
        "        return fib_helper(n-1, cur, prev + cur)\n",
        "\n",
        "# Wrapper function for fib_helper to make it user-friendly.\n",
        "# Starts the sequence with 0 and 1 for the 0th and 1st Fibonacci numbers.\n",
        "def fib(n):\n",
        "    return fib_helper(n, 0, 1)\n",
        "\n",
        "# Function to calculate the sum of even Fibonacci numbers up to a given limit.\n",
        "def fib_even_sum(limit):\n",
        "    # Initialize n to 0 to start from the beginning of the Fibonacci sequence\n",
        "    n = 0\n",
        "    # Initialize even_sum to 0 to keep track of the sum of even Fibonacci numbers\n",
        "    even_sum = 0\n",
        "\n",
        "    # Loop to go through the Fibonacci sequence\n",
        "    while True:\n",
        "        # Calculate the nth Fibonacci number\n",
        "        fib_n = fib(n)\n",
        "\n",
        "        # Break the loop if the Fibonacci number exceeds the limit\n",
        "        if fib_n > limit:\n",
        "            break\n",
        "\n",
        "        # Check if the Fibonacci number is even\n",
        "        if fib_n % 2 == 0:\n",
        "            # Add the even Fibonacci number to the sum\n",
        "            even_sum += fib_n\n",
        "\n",
        "        # Increment n to move to the next Fibonacci number\n",
        "        n += 1\n",
        "\n",
        "    # Return the sum of even Fibonacci numbers\n",
        "    return even_sum\n",
        "\n",
        "# Test the function with a limit of 4,000,000\n",
        "limit = 4000000\n",
        "#limit = 1E3\n",
        "result = fib_even_sum(limit)\n",
        "# Output the result\n",
        "print(f\"The sum of even-valued Fibonacci terms not exceeding {limit} is {result}\")\n"
      ]
    },
    {
      "cell_type": "code",
      "source": [
        "# Solutino 2 with debug\n",
        "# Function to calculate the nth Fibonacci number using recursion.\n",
        "def fib_helper(n, prev, cur):\n",
        "    if n == 0:\n",
        "        return prev\n",
        "    elif n == 1:\n",
        "        return cur\n",
        "    else:\n",
        "        return fib_helper(n-1, cur, prev + cur)\n",
        "\n",
        "# Wrapper function for fib_helper.\n",
        "def fib(n):\n",
        "    return fib_helper(n, 0, 1)\n",
        "\n",
        "# Function to calculate the sum of even Fibonacci numbers up to a given limit.\n",
        "def fib_even_sum(limit, debug=0):\n",
        "    n = 0  # Initialize n to start from the beginning of the Fibonacci sequence\n",
        "    even_sum = 0  # Initialize even_sum to keep track of the sum of even Fibonacci numbers\n",
        "\n",
        "    while True:\n",
        "        fib_n = fib(n)  # Calculate the nth Fibonacci number\n",
        "\n",
        "        if debug == 1:  # Print intermediate results if debug flag is set\n",
        "            print(f\"Fibonacci term {n} is {fib_n}\")\n",
        "\n",
        "        if fib_n > limit:  # Break the loop if the Fibonacci number exceeds the limit\n",
        "            break\n",
        "\n",
        "        if fib_n % 2 == 0:  # Check if the Fibonacci number is even\n",
        "            even_sum += fib_n  # Add the even Fibonacci number to the sum\n",
        "\n",
        "            if debug == 1:  # Print even Fibonacci numbers if debug flag is set\n",
        "                print(f\"Even Fibonacci term {n} is {fib_n}, even_sum is now {even_sum}\")\n",
        "\n",
        "        n += 1  # Increment n to move to the next Fibonacci number\n",
        "\n",
        "    return even_sum  # Return the sum of even Fibonacci numbers\n",
        "\n",
        "# Test the function with a limit of 4,000,000 and debug flag set to 1\n",
        "limit = 4000000\n",
        "result = fib_even_sum(limit, debug=1)\n",
        "print(f\"The sum of even-valued Fibonacci terms not exceeding {limit} is {result}\")\n"
      ],
      "metadata": {
        "colab": {
          "base_uri": "https://localhost:8080/"
        },
        "id": "-eJZ1ONdCrIu",
        "outputId": "5fc8f8a7-d460-4ea8-a00d-763271a7cde6"
      },
      "execution_count": null,
      "outputs": [
        {
          "output_type": "stream",
          "name": "stdout",
          "text": [
            "Fibonacci term 0 is 0\n",
            "Even Fibonacci term 0 is 0, even_sum is now 0\n",
            "Fibonacci term 1 is 1\n",
            "Fibonacci term 2 is 1\n",
            "Fibonacci term 3 is 2\n",
            "Even Fibonacci term 3 is 2, even_sum is now 2\n",
            "Fibonacci term 4 is 3\n",
            "Fibonacci term 5 is 5\n",
            "Fibonacci term 6 is 8\n",
            "Even Fibonacci term 6 is 8, even_sum is now 10\n",
            "Fibonacci term 7 is 13\n",
            "Fibonacci term 8 is 21\n",
            "Fibonacci term 9 is 34\n",
            "Even Fibonacci term 9 is 34, even_sum is now 44\n",
            "Fibonacci term 10 is 55\n",
            "Fibonacci term 11 is 89\n",
            "Fibonacci term 12 is 144\n",
            "Even Fibonacci term 12 is 144, even_sum is now 188\n",
            "Fibonacci term 13 is 233\n",
            "Fibonacci term 14 is 377\n",
            "Fibonacci term 15 is 610\n",
            "Even Fibonacci term 15 is 610, even_sum is now 798\n",
            "Fibonacci term 16 is 987\n",
            "Fibonacci term 17 is 1597\n",
            "Fibonacci term 18 is 2584\n",
            "Even Fibonacci term 18 is 2584, even_sum is now 3382\n",
            "Fibonacci term 19 is 4181\n",
            "Fibonacci term 20 is 6765\n",
            "Fibonacci term 21 is 10946\n",
            "Even Fibonacci term 21 is 10946, even_sum is now 14328\n",
            "Fibonacci term 22 is 17711\n",
            "Fibonacci term 23 is 28657\n",
            "Fibonacci term 24 is 46368\n",
            "Even Fibonacci term 24 is 46368, even_sum is now 60696\n",
            "Fibonacci term 25 is 75025\n",
            "Fibonacci term 26 is 121393\n",
            "Fibonacci term 27 is 196418\n",
            "Even Fibonacci term 27 is 196418, even_sum is now 257114\n",
            "Fibonacci term 28 is 317811\n",
            "Fibonacci term 29 is 514229\n",
            "Fibonacci term 30 is 832040\n",
            "Even Fibonacci term 30 is 832040, even_sum is now 1089154\n",
            "Fibonacci term 31 is 1346269\n",
            "Fibonacci term 32 is 2178309\n",
            "Fibonacci term 33 is 3524578\n",
            "Even Fibonacci term 33 is 3524578, even_sum is now 4613732\n",
            "Fibonacci term 34 is 5702887\n",
            "The sum of even-valued Fibonacci terms not exceeding 4000000 is 4613732\n"
          ]
        }
      ]
    },
    {
      "cell_type": "code",
      "source": [
        "# version 3, trying to show all of the even Fibo numbers\n",
        "# Function to calculate the nth Fibonacci number using recursion.\n",
        "def fib_helper(n, prev, cur):\n",
        "    if n == 0:\n",
        "        return prev\n",
        "    elif n == 1:\n",
        "        return cur\n",
        "    else:\n",
        "        return fib_helper(n-1, cur, prev + cur)\n",
        "\n",
        "# Wrapper function for fib_helper.\n",
        "def fib(n):\n",
        "    return fib_helper(n, 0, 1)\n",
        "\n",
        "# Function to calculate the sum of even Fibonacci numbers up to a given limit.\n",
        "def fib_even_sum(limit, debug=0):\n",
        "    n = 0  # Initialize n to start from the beginning of the Fibonacci sequence\n",
        "    even_sum = 0  # Initialize even_sum to keep track of the sum of even Fibonacci numbers\n",
        "    even_fibo_numbers = []  # List to store even Fibonacci numbers\n",
        "\n",
        "    while True:\n",
        "        fib_n = fib(n)  # Calculate the nth Fibonacci number\n",
        "\n",
        "        if fib_n > limit:  # Break the loop if the Fibonacci number exceeds the limit\n",
        "            break\n",
        "\n",
        "        if fib_n % 2 == 0:  # Check if the Fibonacci number is even\n",
        "            even_sum += fib_n  # Add the even Fibonacci number to the sum\n",
        "            even_fibo_numbers.append(fib_n)  # Add the even Fibonacci number to the list\n",
        "\n",
        "            if debug == 1:  # Print even Fibonacci numbers if debug flag is set\n",
        "                print(f\"Even Fibonacci term {n} is {fib_n}, even_sum is now {even_sum}\")\n",
        "\n",
        "        n += 1  # Increment n to move to the next Fibonacci number\n",
        "\n",
        "    if debug == 1:\n",
        "        print(f\"All even Fibonacci numbers included in the sum: {even_fibo_numbers}\")\n",
        "\n",
        "    return even_sum  # Return the sum of even Fibonacci numbers\n",
        "\n",
        "# Test the function with a limit of 4,000,000 and debug flag set to 1\n",
        "limit = 4000000\n",
        "result = fib_even_sum(limit, debug=1)\n",
        "print(f\"The sum of even-valued Fibonacci terms not exceeding {limit} is {result}\")"
      ],
      "metadata": {
        "id": "ERR8fPf-CrLl",
        "outputId": "4c9ef8f5-211f-49d3-97e2-eba488d5144e",
        "colab": {
          "base_uri": "https://localhost:8080/"
        }
      },
      "execution_count": 1,
      "outputs": [
        {
          "output_type": "stream",
          "name": "stdout",
          "text": [
            "Even Fibonacci term 0 is 0, even_sum is now 0\n",
            "Even Fibonacci term 3 is 2, even_sum is now 2\n",
            "Even Fibonacci term 6 is 8, even_sum is now 10\n",
            "Even Fibonacci term 9 is 34, even_sum is now 44\n",
            "Even Fibonacci term 12 is 144, even_sum is now 188\n",
            "Even Fibonacci term 15 is 610, even_sum is now 798\n",
            "Even Fibonacci term 18 is 2584, even_sum is now 3382\n",
            "Even Fibonacci term 21 is 10946, even_sum is now 14328\n",
            "Even Fibonacci term 24 is 46368, even_sum is now 60696\n",
            "Even Fibonacci term 27 is 196418, even_sum is now 257114\n",
            "Even Fibonacci term 30 is 832040, even_sum is now 1089154\n",
            "Even Fibonacci term 33 is 3524578, even_sum is now 4613732\n",
            "All even Fibonacci numbers included in the sum: [0, 2, 8, 34, 144, 610, 2584, 10946, 46368, 196418, 832040, 3524578]\n",
            "The sum of even-valued Fibonacci terms not exceeding 4000000 is 4613732\n"
          ]
        }
      ]
    },
    {
      "cell_type": "code",
      "source": [],
      "metadata": {
        "id": "UFhSfhLuCrO2"
      },
      "execution_count": null,
      "outputs": []
    },
    {
      "cell_type": "code",
      "source": [],
      "metadata": {
        "id": "6ptAe-SaCrSP"
      },
      "execution_count": null,
      "outputs": []
    }
  ]
}
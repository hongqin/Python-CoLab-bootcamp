{
  "nbformat": 4,
  "nbformat_minor": 0,
  "metadata": {
    "colab": {
      "provenance": [],
      "toc_visible": true,
      "authorship_tag": "ABX9TyN484SaMSYzIa7p0idlJKLU",
      "include_colab_link": true
    },
    "kernelspec": {
      "name": "python3",
      "display_name": "Python 3"
    },
    "language_info": {
      "name": "python"
    }
  },
  "cells": [
    {
      "cell_type": "markdown",
      "metadata": {
        "id": "view-in-github",
        "colab_type": "text"
      },
      "source": [
        "<a href=\"https://colab.research.google.com/github/hongqin/Python-CoLab-bootcamp/blob/master/even_fibo_number_sum.ipynb\" target=\"_parent\"><img src=\"https://colab.research.google.com/assets/colab-badge.svg\" alt=\"Open In Colab\"/></a>"
      ]
    },
    {
      "cell_type": "markdown",
      "source": [
        "# Using recursion"
      ],
      "metadata": {
        "id": "msxZLHoDHFMa"
      }
    },
    {
      "cell_type": "code",
      "source": [
        "# Function to calculate the nth Fibonacci number using recursion.\n",
        "def fib_helper(n, prev, cur):\n",
        "    if n == 0:\n",
        "        return prev\n",
        "    elif n == 1:\n",
        "        return cur\n",
        "    else:\n",
        "        return fib_helper(n-1, cur, prev + cur)\n",
        "\n",
        "# Wrapper function for fib_helper.\n",
        "def fib(n):\n",
        "    return fib_helper(n, 0, 1)\n",
        "\n",
        "# Function to calculate the sum of even Fibonacci numbers up to a given limit using recursion.\n",
        "def fib_even_sum(n, limit, even_sum=0, debug=0):\n",
        "    fib_n = fib(n)  # Calculate the nth Fibonacci number\n",
        "\n",
        "    # Base case: if the Fibonacci number exceeds the limit, return the sum\n",
        "    if fib_n > limit:\n",
        "        if debug == 1:\n",
        "            print(f\"Reached limit. Final sum is {even_sum}\")\n",
        "        return even_sum\n",
        "\n",
        "    # Check if the Fibonacci number is even\n",
        "    if fib_n % 2 == 0:\n",
        "        even_sum += fib_n  # Add the even Fibonacci number to the sum\n",
        "        if debug == 1:  # Print even Fibonacci numbers if debug flag is set\n",
        "            print(f\"Even Fibonacci term {n} is {fib_n}, even_sum is now {even_sum}\")\n",
        "\n",
        "    # Recursive call to move to the next Fibonacci number\n",
        "    return fib_even_sum(n + 1, limit, even_sum, debug)\n",
        "\n",
        "# Test the function with a limit of 4,000,000 and debug flag set to 1\n",
        "limit = 4000000\n",
        "result = fib_even_sum(0, limit, debug=1)\n",
        "print(f\"The sum of even-valued Fibonacci terms not exceeding {limit} is {result}\")\n"
      ],
      "metadata": {
        "id": "6ptAe-SaCrSP",
        "colab": {
          "base_uri": "https://localhost:8080/"
        },
        "outputId": "657d2248-1983-43ae-c646-af6de1f6e77b"
      },
      "execution_count": 2,
      "outputs": [
        {
          "output_type": "stream",
          "name": "stdout",
          "text": [
            "Even Fibonacci term 0 is 0, even_sum is now 0\n",
            "Even Fibonacci term 3 is 2, even_sum is now 2\n",
            "Even Fibonacci term 6 is 8, even_sum is now 10\n",
            "Even Fibonacci term 9 is 34, even_sum is now 44\n",
            "Even Fibonacci term 12 is 144, even_sum is now 188\n",
            "Even Fibonacci term 15 is 610, even_sum is now 798\n",
            "Even Fibonacci term 18 is 2584, even_sum is now 3382\n",
            "Even Fibonacci term 21 is 10946, even_sum is now 14328\n",
            "Even Fibonacci term 24 is 46368, even_sum is now 60696\n",
            "Even Fibonacci term 27 is 196418, even_sum is now 257114\n",
            "Even Fibonacci term 30 is 832040, even_sum is now 1089154\n",
            "Even Fibonacci term 33 is 3524578, even_sum is now 4613732\n",
            "Reached limit. Final sum is 4613732\n",
            "The sum of even-valued Fibonacci terms not exceeding 4000000 is 4613732\n"
          ]
        }
      ]
    },
    {
      "cell_type": "markdown",
      "source": [
        "# add more comments"
      ],
      "metadata": {
        "id": "iNi4rwnVIoSY"
      }
    },
    {
      "cell_type": "code",
      "source": [
        "# Function to calculate the nth Fibonacci number using recursion.\n",
        "# 'prev' is the (n-1)th Fibonacci number, and 'cur' is the nth Fibonacci number.\n",
        "def fib_helper(n, prev, cur):\n",
        "    if n == 0:\n",
        "        return prev\n",
        "    elif n == 1:\n",
        "        return cur\n",
        "    else:\n",
        "        return fib_helper(n-1, cur, prev + cur)\n",
        "\n",
        "# Wrapper function for fib_helper to make it user-friendly.\n",
        "# Starts the sequence with 0 and 1 for the 0th and 1st Fibonacci numbers.\n",
        "def fib(n):\n",
        "    return fib_helper(n, 0, 1)\n",
        "\n",
        "# Recursive function to calculate the sum of even Fibonacci numbers up to a given limit.\n",
        "# n: current index in the Fibonacci sequence\n",
        "# limit: the upper limit for Fibonacci numbers\n",
        "# even_sum: accumulator for the sum of even Fibonacci numbers (default is 0)\n",
        "# debug: flag for printing debug information (default is 0)\n",
        "def fib_even_sum(n, limit, even_sum=0, debug=0):\n",
        "    fib_n = fib(n)  # Calculate the nth Fibonacci number\n",
        "\n",
        "    # Base case: if the Fibonacci number exceeds the limit, return the sum\n",
        "    if fib_n > limit:\n",
        "        if debug == 1:\n",
        "            print(f\"Reached limit. Final sum is {even_sum}\")\n",
        "        return even_sum\n",
        "\n",
        "    # Check if the Fibonacci number is even\n",
        "    if fib_n % 2 == 0:\n",
        "        even_sum += fib_n  # Add the even Fibonacci number to the sum\n",
        "        if debug == 1:  # Print even Fibonacci numbers if debug flag is set\n",
        "            print(f\"Even Fibonacci term {n} is {fib_n}, even_sum is now {even_sum}\")\n",
        "\n",
        "    # Recursive call: Increment n and pass the updated even_sum\n",
        "    return fib_even_sum(n + 1, limit, even_sum, debug)\n",
        "\n",
        "# Test the function with a limit of 4,000,000 and debug flag set to 1\n",
        "limit = 4000000\n",
        "result = fib_even_sum(0, limit, debug=1)\n",
        "print(f\"The sum of even-valued Fibonacci terms not exceeding {limit} is {result}\")\n"
      ],
      "metadata": {
        "id": "StaoUWZRIqKX",
        "outputId": "62e3bd8d-8707-4b2d-8f7c-19002f651349",
        "colab": {
          "base_uri": "https://localhost:8080/"
        }
      },
      "execution_count": 3,
      "outputs": [
        {
          "output_type": "stream",
          "name": "stdout",
          "text": [
            "Even Fibonacci term 0 is 0, even_sum is now 0\n",
            "Even Fibonacci term 3 is 2, even_sum is now 2\n",
            "Even Fibonacci term 6 is 8, even_sum is now 10\n",
            "Even Fibonacci term 9 is 34, even_sum is now 44\n",
            "Even Fibonacci term 12 is 144, even_sum is now 188\n",
            "Even Fibonacci term 15 is 610, even_sum is now 798\n",
            "Even Fibonacci term 18 is 2584, even_sum is now 3382\n",
            "Even Fibonacci term 21 is 10946, even_sum is now 14328\n",
            "Even Fibonacci term 24 is 46368, even_sum is now 60696\n",
            "Even Fibonacci term 27 is 196418, even_sum is now 257114\n",
            "Even Fibonacci term 30 is 832040, even_sum is now 1089154\n",
            "Even Fibonacci term 33 is 3524578, even_sum is now 4613732\n",
            "Reached limit. Final sum is 4613732\n",
            "The sum of even-valued Fibonacci terms not exceeding 4000000 is 4613732\n"
          ]
        }
      ]
    }
  ]
}
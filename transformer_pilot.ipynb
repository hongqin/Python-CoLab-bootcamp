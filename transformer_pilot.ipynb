{
  "nbformat": 4,
  "nbformat_minor": 0,
  "metadata": {
    "colab": {
      "provenance": [],
      "toc_visible": true,
      "authorship_tag": "ABX9TyNZZLwu3ye3HTmJsjejCim7",
      "include_colab_link": true
    },
    "kernelspec": {
      "name": "python3",
      "display_name": "Python 3"
    },
    "language_info": {
      "name": "python"
    }
  },
  "cells": [
    {
      "cell_type": "markdown",
      "metadata": {
        "id": "view-in-github",
        "colab_type": "text"
      },
      "source": [
        "<a href=\"https://colab.research.google.com/github/hongqin/Python-CoLab-bootcamp/blob/master/transformer_pilot.ipynb\" target=\"_parent\"><img src=\"https://colab.research.google.com/assets/colab-badge.svg\" alt=\"Open In Colab\"/></a>"
      ]
    },
    {
      "cell_type": "code",
      "source": [
        "import torch\n",
        "import torch.nn as nn\n",
        "import torch.nn.functional as F\n",
        "\n",
        "class TransformerBlock(nn.Module):\n",
        "    def __init__(self, d_model, nhead, dim_feedforward, dropout=0.1):\n",
        "        super(TransformerBlock, self).__init__()\n",
        "        self.attn = nn.MultiheadAttention(d_model, nhead, dropout=dropout)\n",
        "        self.feed_forward = nn.Sequential(\n",
        "            nn.Linear(d_model, dim_feedforward),\n",
        "            nn.ReLU(),\n",
        "            nn.Linear(dim_feedforward, d_model)\n",
        "        )\n",
        "        self.norm1 = nn.LayerNorm(d_model)\n",
        "        self.norm2 = nn.LayerNorm(d_model)\n",
        "        self.dropout = nn.Dropout(dropout)\n",
        "        print(\"TransformerBlock.__init__()\")\n",
        "\n",
        "    def forward(self, x):\n",
        "        print(\"TransformerBlock.forward()\")\n",
        "        attn_output, _ = self.attn(x, x, x)\n",
        "        x = x + self.dropout(attn_output)\n",
        "        x = self.norm1(x)\n",
        "        ff = self.feed_forward(x)\n",
        "        x = x + self.dropout(ff)\n",
        "        x = self.norm2(x)\n",
        "        return x\n",
        "\n",
        "class Transformer(nn.Module):\n",
        "    def __init__(self, d_model, nhead, num_layers, dim_feedforward, dropout=0.1):\n",
        "        print(\"Transformer.__init__()\")\n",
        "        super(Transformer, self).__init__()\n",
        "        self.encoder_layers = nn.ModuleList([\n",
        "            TransformerBlock(d_model, nhead, dim_feedforward, dropout) for _ in range(num_layers)\n",
        "        ])\n",
        "        self.fc = nn.Linear(d_model, 1)\n",
        "\n",
        "    def forward(self, x):\n",
        "        print(\"Transformer.forward()\")\n",
        "        for layer in self.encoder_layers:\n",
        "            x = layer(x)\n",
        "        x = self.fc(x)\n",
        "        return x\n"
      ],
      "metadata": {
        "id": "64lP3latVV0M"
      },
      "execution_count": 1,
      "outputs": []
    },
    {
      "cell_type": "code",
      "source": [
        "# Define the model\n",
        "d_model = 8\n",
        "nhead = 4\n",
        "num_layers = 2\n",
        "dim_feedforward = 20\n",
        "model = Transformer(d_model, nhead, num_layers, dim_feedforward)"
      ],
      "metadata": {
        "colab": {
          "base_uri": "https://localhost:8080/"
        },
        "id": "HJcQJ4HsVYtu",
        "outputId": "a52d8916-49af-46e5-f746-6090f0c7be27"
      },
      "execution_count": 2,
      "outputs": [
        {
          "output_type": "stream",
          "name": "stdout",
          "text": [
            "Transformer.__init__()\n",
            "TransformerBlock.__init__()\n",
            "TransformerBlock.__init__()\n"
          ]
        }
      ]
    },
    {
      "cell_type": "code",
      "source": [
        "# Define the input and target data\n",
        "input_data = torch.tensor([[1, 2, 3, 4, 5, 6, 7, 8], [8, 7, 6, 5, 4, 3, 2, 1]]).float()\n",
        "#input_data = input_data.unsqueeze(-1)\n",
        "target_data = torch.tensor([[2], [3]]).float()\n",
        "\n",
        "# Define the loss function and optimizer\n",
        "criterion = nn.MSELoss()\n",
        "optimizer = torch.optim.Adam(model.parameters(), lr=0.01)"
      ],
      "metadata": {
        "id": "8jbP9ihdVYxK"
      },
      "execution_count": 3,
      "outputs": []
    },
    {
      "cell_type": "code",
      "execution_count": 4,
      "metadata": {
        "colab": {
          "base_uri": "https://localhost:8080/"
        },
        "id": "-e40DQ-dLJpY",
        "outputId": "d4230f4f-13ee-4aeb-cb8e-2553f980bcb0"
      },
      "outputs": [
        {
          "output_type": "stream",
          "name": "stdout",
          "text": [
            "Transformer.forward()\n",
            "TransformerBlock.forward()\n",
            "TransformerBlock.forward()\n",
            "Epoch: 1, Loss: 8.72730827331543\n",
            "Transformer.forward()\n",
            "TransformerBlock.forward()\n",
            "TransformerBlock.forward()\n",
            "Transformer.forward()\n",
            "TransformerBlock.forward()\n",
            "TransformerBlock.forward()\n",
            "Transformer.forward()\n",
            "TransformerBlock.forward()\n",
            "TransformerBlock.forward()\n",
            "Epoch: 4, Loss: 3.1471292972564697\n",
            "Transformer.forward()\n",
            "TransformerBlock.forward()\n",
            "TransformerBlock.forward()\n",
            "Transformer.forward()\n",
            "TransformerBlock.forward()\n",
            "TransformerBlock.forward()\n",
            "Transformer.forward()\n",
            "TransformerBlock.forward()\n",
            "TransformerBlock.forward()\n",
            "Epoch: 7, Loss: 1.4776685237884521\n",
            "Transformer.forward()\n",
            "TransformerBlock.forward()\n",
            "TransformerBlock.forward()\n",
            "Transformer.forward()\n",
            "TransformerBlock.forward()\n",
            "TransformerBlock.forward()\n",
            "Transformer.forward()\n",
            "TransformerBlock.forward()\n",
            "TransformerBlock.forward()\n",
            "Epoch: 10, Loss: 0.8497104644775391\n"
          ]
        }
      ],
      "source": [
        "# Train the model\n",
        "for epoch in range(10):\n",
        "    output = model(input_data)\n",
        "    loss = criterion(output, target_data)\n",
        "    optimizer.zero_grad()\n",
        "    loss.backward()\n",
        "    optimizer.step()\n",
        "    \n",
        "    if epoch % 3 == 0:\n",
        "        print(f'Epoch: {epoch+1}, Loss: {loss.item()}')\n"
      ]
    },
    {
      "cell_type": "code",
      "source": [],
      "metadata": {
        "id": "4Hp5XNHUOZV5"
      },
      "execution_count": 4,
      "outputs": []
    }
  ]
}
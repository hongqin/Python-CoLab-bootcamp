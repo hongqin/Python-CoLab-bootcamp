{
  "nbformat": 4,
  "nbformat_minor": 0,
  "metadata": {
    "colab": {
      "provenance": [],
      "authorship_tag": "ABX9TyPH3eRlu8H70cidXv5MfbqH",
      "include_colab_link": true
    },
    "kernelspec": {
      "name": "python3",
      "display_name": "Python 3"
    },
    "language_info": {
      "name": "python"
    }
  },
  "cells": [
    {
      "cell_type": "markdown",
      "metadata": {
        "id": "view-in-github",
        "colab_type": "text"
      },
      "source": [
        "<a href=\"https://colab.research.google.com/github/hongqin/Python-CoLab-bootcamp/blob/master/transformer_pilot.ipynb\" target=\"_parent\"><img src=\"https://colab.research.google.com/assets/colab-badge.svg\" alt=\"Open In Colab\"/></a>"
      ]
    },
    {
      "cell_type": "code",
      "execution_count": 13,
      "metadata": {
        "colab": {
          "base_uri": "https://localhost:8080/"
        },
        "id": "-e40DQ-dLJpY",
        "outputId": "0db2565f-baa8-4c52-d355-648b50481d32"
      },
      "outputs": [
        {
          "output_type": "stream",
          "name": "stdout",
          "text": [
            "Epoch: 1, Loss: 5.3474931716918945\n",
            "Epoch: 51, Loss: 0.027179639786481857\n",
            "Epoch: 101, Loss: 0.0018792967312037945\n",
            "Epoch: 151, Loss: 0.004663232713937759\n",
            "Epoch: 201, Loss: 0.0018794090719893575\n",
            "Epoch: 251, Loss: 0.0003173510485794395\n",
            "Epoch: 301, Loss: 0.0009579893085174263\n",
            "Epoch: 351, Loss: 0.0003184921224601567\n",
            "Epoch: 401, Loss: 0.001031417865306139\n",
            "Epoch: 451, Loss: 0.0021307349670678377\n"
          ]
        }
      ],
      "source": [
        "import torch\n",
        "import torch.nn as nn\n",
        "import torch.nn.functional as F\n",
        "\n",
        "class TransformerBlock(nn.Module):\n",
        "    def __init__(self, d_model, nhead, dim_feedforward, dropout=0.1):\n",
        "        super(TransformerBlock, self).__init__()\n",
        "        self.attn = nn.MultiheadAttention(d_model, nhead, dropout=dropout)\n",
        "        self.feed_forward = nn.Sequential(\n",
        "            nn.Linear(d_model, dim_feedforward),\n",
        "            nn.ReLU(),\n",
        "            nn.Linear(dim_feedforward, d_model)\n",
        "        )\n",
        "        self.norm1 = nn.LayerNorm(d_model)\n",
        "        self.norm2 = nn.LayerNorm(d_model)\n",
        "        self.dropout = nn.Dropout(dropout)\n",
        "\n",
        "    def forward(self, x):\n",
        "        attn_output, _ = self.attn(x, x, x)\n",
        "        x = x + self.dropout(attn_output)\n",
        "        x = self.norm1(x)\n",
        "        ff = self.feed_forward(x)\n",
        "        x = x + self.dropout(ff)\n",
        "        x = self.norm2(x)\n",
        "        return x\n",
        "\n",
        "class Transformer(nn.Module):\n",
        "    def __init__(self, d_model, nhead, num_layers, dim_feedforward, dropout=0.1):\n",
        "        super(Transformer, self).__init__()\n",
        "        self.encoder_layers = nn.ModuleList([\n",
        "            TransformerBlock(d_model, nhead, dim_feedforward, dropout) for _ in range(num_layers)\n",
        "        ])\n",
        "        self.fc = nn.Linear(d_model, 1)\n",
        "\n",
        "    def forward(self, x):\n",
        "        for layer in self.encoder_layers:\n",
        "            x = layer(x)\n",
        "        x = self.fc(x)\n",
        "        return x\n",
        "\n",
        "# Define the model\n",
        "d_model = 8\n",
        "nhead = 4\n",
        "num_layers = 2\n",
        "dim_feedforward = 20\n",
        "model = Transformer(d_model, nhead, num_layers, dim_feedforward)\n",
        "\n",
        "# Define the input and target data\n",
        "input_data = torch.tensor([[1, 2, 3, 4, 5, 6, 7, 8], [8, 7, 6, 5, 4, 3, 2, 1]]).float()\n",
        "#input_data = input_data.unsqueeze(-1)\n",
        "target_data = torch.tensor([[2], [3]]).float()\n",
        "\n",
        "# Define the loss function and optimizer\n",
        "criterion = nn.MSELoss()\n",
        "optimizer = torch.optim.Adam(model.parameters(), lr=0.01)\n",
        "\n",
        "# Train the model\n",
        "for epoch in range(500):\n",
        "    output = model(input_data)\n",
        "    loss = criterion(output, target_data)\n",
        "    optimizer.zero_grad()\n",
        "    loss.backward()\n",
        "    optimizer.step()\n",
        "    \n",
        "    if epoch % 50 == 0:\n",
        "        print(f'Epoch: {epoch+1}, Loss: {loss.item()}')\n"
      ]
    },
    {
      "cell_type": "code",
      "source": [],
      "metadata": {
        "id": "4Hp5XNHUOZV5"
      },
      "execution_count": null,
      "outputs": []
    },
    {
      "cell_type": "code",
      "source": [
        "input_data = torch.tensor([[1, 2, 3, 4, 5], [5, 4, 3, 2, 1]])\n",
        "input_data = input_data.unsqueeze(2).float()\n",
        "input_data"
      ],
      "metadata": {
        "colab": {
          "base_uri": "https://localhost:8080/"
        },
        "id": "Z2Uk_jrGOZYl",
        "outputId": "f2d124dc-29b4-4cdf-941e-824b5618a508"
      },
      "execution_count": 6,
      "outputs": [
        {
          "output_type": "execute_result",
          "data": {
            "text/plain": [
              "tensor([[[1.],\n",
              "         [2.],\n",
              "         [3.],\n",
              "         [4.],\n",
              "         [5.]],\n",
              "\n",
              "        [[5.],\n",
              "         [4.],\n",
              "         [3.],\n",
              "         [2.],\n",
              "         [1.]]])"
            ]
          },
          "metadata": {},
          "execution_count": 6
        }
      ]
    },
    {
      "cell_type": "code",
      "source": [
        "input_data.shape\n"
      ],
      "metadata": {
        "colab": {
          "base_uri": "https://localhost:8080/"
        },
        "id": "3Mh_42dDObk7",
        "outputId": "a4ef3eec-763c-4fc6-d188-2cc09f6a84f1"
      },
      "execution_count": 8,
      "outputs": [
        {
          "output_type": "execute_result",
          "data": {
            "text/plain": [
              "torch.Size([2, 5, 1])"
            ]
          },
          "metadata": {},
          "execution_count": 8
        }
      ]
    }
  ]
}